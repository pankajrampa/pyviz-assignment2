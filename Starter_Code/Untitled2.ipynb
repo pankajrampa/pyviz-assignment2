{
 "cells": [
  {
   "cell_type": "code",
   "execution_count": null,
   "metadata": {},
   "outputs": [],
   "source": [
    " df = pd.DataFrame(\n",
    "        {\n",
    "         'year': np.random.randint(2010, 2017, 1000),\n",
    "         'neighborhood': np.random.choice(n_list, 1000),\n",
    "         'sale_price_sqr_foot': np.random.randint(200, 1000, 1000),\n",
    "         'housing_units': np.random.randint(322023, 429321, 1000),\n",
    "         'gross_rent': np.random.randint(500, 1239, 1000)\n",
    "        }\n",
    "    ).sort_values([\"gross_rent\", \"housing_units\", \"neighborhood\", \"sale_price_sqr_foot\"]) \n"
   ]
  }
 ],
 "metadata": {
  "kernelspec": {
   "display_name": "Python [conda env:pyvizenv] *",
   "language": "python",
   "name": "conda-env-pyvizenv-py"
  },
  "language_info": {
   "codemirror_mode": {
    "name": "ipython",
    "version": 3
   },
   "file_extension": ".py",
   "mimetype": "text/x-python",
   "name": "python",
   "nbconvert_exporter": "python",
   "pygments_lexer": "ipython3",
   "version": "3.7.9"
  }
 },
 "nbformat": 4,
 "nbformat_minor": 4
}
